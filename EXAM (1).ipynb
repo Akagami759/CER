{
 "cells": [
  {
   "cell_type": "markdown",
   "metadata": {},
   "source": [
    "<center>\n",
    "    <img src=\"https://cf-courses-data.s3.us.cloud-object-storage.appdomain.cloud/IBMDeveloperSkillsNetwork-DS0105EN-SkillsNetwork/labs/Module2/images/SN_web_lightmode.png\" width=\"300\" alt=\"cognitiveclass.ai logo\">\n",
    "</center>\n"
   ]
  },
  {
   "cell_type": "markdown",
   "metadata": {
    "tags": []
   },
   "source": [
    "#### Add your code below following the instructions given in the course\n"
   ]
  },
  {
   "cell_type": "markdown",
   "metadata": {},
   "source": [
    "# Data Science Tools and Ecosystem"
   ]
  },
  {
   "cell_type": "markdown",
   "metadata": {
    "tags": []
   },
   "source": [
    "### Data science is a multidisciplinary field that involves extracting insights and knowledge from structured and unstructured data. A variety of tools and technologies form the foundation of the data science ecosystem, enabling professionals to collect, process, analyze, and visualize data. The data science ecosystem is vast and continually evolving, with a wide range of tools available for different stages of the data science workflow."
   ]
  },
  {
   "cell_type": "markdown",
   "metadata": {
    "tags": []
   },
   "source": [
    "## Languages used by Data Scientists are\n",
    "### 1. Python\n",
    "### 2. R\n",
    "### 3. SQL\n",
    "### 4. Java\n",
    "### 5. C++\n",
    "### 6. Julia\n",
    "### 7. Java Script\n",
    "### 8. Php\n",
    "### 9. Ruby"
   ]
  },
  {
   "cell_type": "markdown",
   "metadata": {
    "tags": []
   },
   "source": [
    "# Data Science Libraries:\n",
    "## Python:\n",
    "### NumPy\n",
    "### Pandas\n",
    "### Matplotlib\n",
    "### Seaborn\n",
    "### Scikit-learn\n",
    "### TensorFlow\n",
    "### PyTorch\n",
    "### SciPy\n",
    "### Statsmodels\n",
    "### NLTK\n",
    "## R:\n",
    "### dplyr\n",
    "### ggplot2\n",
    "### caret\n",
    "### tidyverse"
   ]
  },
  {
   "cell_type": "markdown",
   "metadata": {},
   "source": [
    "# Data Science Tools:\n",
    "### SQL and NoSQL Databases, Data Warehousing\n",
    "### Data Cleaning and Preprocessing         Pandas, NumPy\n",
    "### Data Analysis and Statistics            R, Python, Jupyter Notebooks\n",
    "### Machine Learning                        Scikit-learn, TensorFlow, PyTorch\n",
    "### Big Data Processing                     Apache Hadoop, Apache Spark\n",
    "### Data Visualization                      Matplotlib, Seaborn, Tableau, Power BI, Plotly\n",
    "### Version Control                         Git\n",
    "### Cloud Platforms                         AWS, Azure, GCP\n",
    "### Containerization/Orchestration          Docker, Kubernetes\n",
    "### Data Governance and Security            Apache Ranger, Apache Atlas\n",
    "### Collaboration and Communication         Slack, Microsoft Teams"
   ]
  },
  {
   "cell_type": "markdown",
   "metadata": {},
   "source": [
    "## Arithmetic operators are fundamental components of programming languages and mathematics, used to perform mathematical operations on numerical values. In most programming languages, arithmetic operators are symbols or keywords that represent basic arithmetic operations."
   ]
  },
  {
   "cell_type": "code",
   "execution_count": 6,
   "metadata": {
    "tags": []
   },
   "outputs": [
    {
     "name": "stdout",
     "output_type": "stream",
     "text": [
      "Output: 17.0\n"
     ]
    }
   ],
   "source": [
    "# Arithmetic expression\n",
    "result = (4 + 4.5) * 2\n",
    "\n",
    "# Display the result\n",
    "print(\"Output:\", result)\n"
   ]
  },
  {
   "cell_type": "code",
   "execution_count": 8,
   "metadata": {
    "tags": []
   },
   "outputs": [
    {
     "name": "stdout",
     "output_type": "stream",
     "text": [
      "Output: 3.3333333333333335\n"
     ]
    }
   ],
   "source": [
    "# Define the number of minutes\n",
    "minutes = 200\n",
    "\n",
    "# Convert minutes to hours using an arithmetic expression\n",
    "hours = minutes / 60\n",
    "\n",
    "# Display the result\n",
    "print(\"Output:\", hours)\n"
   ]
  },
  {
   "cell_type": "markdown",
   "metadata": {},
   "source": [
    "# Objectives:\n",
    "### **Objectives:**\n",
    "#### -Title of the Notebook.\n",
    "#### -Introduction.\n",
    "#### -List Data Science Languages.\n",
    "#### -List Data Science Libraries.\n",
    "#### -Table of Data Science Tools.\n",
    "#### -Arithmetic Expression Examples.\n",
    "#### -Multiply and Add Numbers.\n",
    "#### -Convert Minutes to Hours.\n",
    "#### -Author's Name.\n",
    "#### -Share on GitHub.\n",
    "#### -Take a Screenshot."
   ]
  },
  {
   "cell_type": "markdown",
   "metadata": {},
   "source": [
    "## Author(s) Name\n",
    "#### Asad Faizan shaik"
   ]
  }
 ],
 "metadata": {
  "kernelspec": {
   "display_name": "Python",
   "language": "python",
   "name": "conda-env-python-py"
  },
  "language_info": {
   "codemirror_mode": {
    "name": "ipython",
    "version": 3
   },
   "file_extension": ".py",
   "mimetype": "text/x-python",
   "name": "python",
   "nbconvert_exporter": "python",
   "pygments_lexer": "ipython3",
   "version": "3.7.12"
  }
 },
 "nbformat": 4,
 "nbformat_minor": 4
}
